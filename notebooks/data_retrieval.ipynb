{
 "cells": [
  {
   "cell_type": "code",
   "execution_count": 1,
   "metadata": {},
   "outputs": [],
   "source": [
    "\n",
    "\n",
    "import os\n",
    "from dotenv import load_dotenv\n",
    "\n",
    "# Load environment variables from .env file\n",
    "load_dotenv()\n",
    "\n",
    "# Access the API token\n",
    "api_token = os.getenv('NOAA_API_TOKEN')"
   ]
  },
  {
   "cell_type": "code",
   "execution_count": null,
   "metadata": {},
   "outputs": [],
   "source": [
    "url = \"https://www.ncei.noaa.gov/cdo-web/api/v2/datasets\"\n",
    "\n",
    "https://urs.earthdata.nasa.gov/profile\n",
    "\n",
    "https://www.youtube.com/watch?v=DIdgltyoIYg&ab_channel=GeoDev\n",
    "\n",
    "https://www.youtube.com/watch?v=AmF1nn7o6Hc&ab_channel=ClimateUnboxed\n",
    "\n",
    "https://www.youtube.com/watch?v=EIe7IBMqhsw&ab_channel=JavedAli\n",
    "\n",
    "https://www.youtube.com/watch?v=cVtiVTSVdlo&ab_channel=Berenger\n",
    "\n",
    "https://www.youtube.com/watch?v=IVDf-BVbXDE&ab_channel=Dr.Jalal\n",
    "\n",
    "https://www.youtube.com/watch?v=bHLD4tBEyms&ab_channel=HatariLabs\n",
    "\n",
    "\n",
    "\n",
    "\n",
    "\n",
    "\n",
    "\n",
    "\n"
   ]
  }
 ],
 "metadata": {
  "kernelspec": {
   "display_name": "climate_change_dashboard-k5E2IyN5",
   "language": "python",
   "name": "python3"
  },
  "language_info": {
   "codemirror_mode": {
    "name": "ipython",
    "version": 3
   },
   "file_extension": ".py",
   "mimetype": "text/x-python",
   "name": "python",
   "nbconvert_exporter": "python",
   "pygments_lexer": "ipython3",
   "version": "3.12.3"
  }
 },
 "nbformat": 4,
 "nbformat_minor": 2
}
