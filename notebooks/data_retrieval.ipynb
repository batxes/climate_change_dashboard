{
 "cells": [
  {
   "cell_type": "code",
   "execution_count": 1,
   "metadata": {},
   "outputs": [],
   "source": [
    "\n",
    "\n",
    "import pandas as pd\n",
    "import numpy as np\n",
    "\n",
    "import requests\n",
    "from bs4 import BeautifulSoup\n",
    "import os\n",
    "from dotenv import load_dotenv\n",
    "\n",
    "# Load environment variables from .env file\n",
    "load_dotenv()\n",
    "\n",
    "# Access the API token\n",
    "api_token = os.getenv('NOAA_API_TOKEN')\n",
    "\n",
    "\n",
    "# data comes from: https://www.ncei.noaa.gov/products/extended-reconstructed-sst -> https://www.ncei.noaa.gov/pub/data/cmb/ersst/v5/ascii/\n",
    "# README: https://www.ncei.noaa.gov/pub/data/cmb/ersst/v5/ascii/Readme\n",
    "\n",
    "# /home/ibai/Downloads/ersst.v5.2024.asc\n",
    "\n",
    "\n",
    "#url = \"https://www.ncei.noaa.gov/cdo-web/api/v2/datasets\"\n",
    "#\n",
    "#https://urs.earthdata.nasa.gov/profile\n",
    "#\n",
    "#https://www.youtube.com/watch?v=DIdgltyoIYg&ab_channel=GeoDev\n",
    "#\n",
    "#https://www.youtube.com/watch?v=AmF1nn7o6Hc&ab_channel=ClimateUnboxed\n",
    "#\n",
    "#https://www.youtube.com/watch?v=EIe7IBMqhsw&ab_channel=JavedAli\n",
    "#\n",
    "#https://www.youtube.com/watch?v=cVtiVTSVdlo&ab_channel=Berenger\n",
    "#\n",
    "#https://www.youtube.com/watch?v=IVDf-BVbXDE&ab_channel=Dr.Jalal\n",
    "#\n",
    "#https://www.youtube.com/watch?v=bHLD4tBEyms&ab_channel=HatariLabs\n"
   ]
  },
  {
   "cell_type": "code",
   "execution_count": 27,
   "metadata": {},
   "outputs": [
    {
     "name": "stderr",
     "output_type": "stream",
     "text": [
      "<>:3: SyntaxWarning: invalid escape sequence '\\s'\n",
      "<>:3: SyntaxWarning: invalid escape sequence '\\s'\n",
      "/tmp/ipykernel_12230/498135993.py:3: SyntaxWarning: invalid escape sequence '\\s'\n",
      "  df = pd.read_csv('https://data.giss.nasa.gov/gistemp/tabledata_v4/GLB.Ts+dSST.txt', skiprows=7, sep='\\s+')\n"
     ]
    },
    {
     "name": "stdout",
     "output_type": "stream",
     "text": [
      "     Year    Jan    Feb    Mar    Apr    May    Jun    Jul    Aug    Sep  \\\n",
      "0    1880  -20.0  -26.0   -9.0  -17.0  -10.0  -22.0  -21.0  -11.0  -16.0   \n",
      "1    1881  -20.0  -16.0    2.0    3.0    6.0  -19.0    0.0   -5.0  -16.0   \n",
      "2    1882   15.0   13.0    4.0  -17.0  -14.0  -23.0  -17.0   -8.0  -15.0   \n",
      "3    1883  -30.0  -37.0  -13.0  -19.0  -18.0   -8.0   -8.0  -15.0  -23.0   \n",
      "4    1884  -13.0   -9.0  -37.0  -41.0  -34.0  -35.0  -31.0  -28.0  -28.0   \n",
      "..    ...    ...    ...    ...    ...    ...    ...    ...    ...    ...   \n",
      "146  2020  118.0  124.0  118.0  112.0  100.0   91.0   89.0   86.0   96.0   \n",
      "148  2021   81.0   64.0   89.0   76.0   79.0   84.0   92.0   81.0   92.0   \n",
      "149  2022   91.0   89.0  104.0   83.0   84.0   92.0   94.0   95.0   89.0   \n",
      "150  2023   88.0   97.0  123.0   99.0   94.0  108.0  119.0  119.0  148.0   \n",
      "151  2024  124.0  144.0  139.0  131.0  116.0  124.0  120.0  130.0  123.0   \n",
      "\n",
      "       Oct    Nov    Dec    J-D    D-N    DJF    MAM    JJA    SON        mean  \n",
      "0    -23.0  -23.0  -19.0  -18.0    NaN    NaN  -12.0  -18.0  -21.0  -18.083333  \n",
      "1    -22.0  -19.0   -8.0  -10.0  -11.0  -18.0    4.0   -8.0  -19.0   -9.500000  \n",
      "2    -24.0  -17.0  -37.0  -12.0   -9.0    7.0   -9.0  -16.0  -19.0  -11.666667  \n",
      "3    -12.0  -24.0  -12.0  -18.0  -20.0  -35.0  -17.0  -10.0  -20.0  -18.250000  \n",
      "4    -25.0  -34.0  -31.0  -29.0  -27.0  -11.0  -37.0  -32.0  -29.0  -28.833333  \n",
      "..     ...    ...    ...    ...    ...    ...    ...    ...    ...         ...  \n",
      "146   87.0  109.0   79.0  101.0  103.0  118.0  110.0   89.0   98.0  100.750000  \n",
      "148   98.0   92.0   87.0   85.0   84.0   75.0   81.0   86.0   94.0   84.583333  \n",
      "149   97.0   73.0   80.0   89.0   90.0   89.0   91.0   94.0   86.0   89.250000  \n",
      "150  134.0  142.0  135.0  117.0  113.0   88.0  105.0  116.0  141.0  117.166667  \n",
      "151  133.0  129.0  126.0  128.0  129.0  135.0  129.0  125.0  129.0  128.250000  \n",
      "\n",
      "[145 rows x 20 columns]\n"
     ]
    }
   ],
   "source": [
    "# Global temperature: https://data.giss.nasa.gov/gistemp/tabledata_v4/GLB.Ts+dSST.txt\n",
    "\n",
    "df = pd.read_csv('https://data.giss.nasa.gov/gistemp/tabledata_v4/GLB.Ts+dSST.txt', skiprows=7, sep='\\s+')\n",
    "df = df.iloc[:, :-1]\n",
    "for col in df.columns:\n",
    "    df[col] = pd.to_numeric(df[col], errors='coerce')\n",
    "df = df.dropna(subset=[\"Year\"])\n",
    "df[\"Year\"] = df[\"Year\"].astype(int)\n",
    "print (df)"
   ]
  },
  {
   "cell_type": "code",
   "execution_count": 5,
   "metadata": {},
   "outputs": [
    {
     "name": "stdout",
     "output_type": "stream",
     "text": [
      "            0\n",
      "1      -161.0\n",
      "4       -73.0\n",
      "7       -57.0\n",
      "10      -30.0\n",
      "12     -116.0\n",
      "...       ...\n",
      "296967 -180.0\n",
      "296969 -180.0\n",
      "296971 -180.0\n",
      "296973 -180.0\n",
      "296975 -180.0\n",
      "\n",
      "[131856 rows x 1 columns]\n",
      "1351.506036888727\n"
     ]
    }
   ],
   "source": [
    "url = 'https://www.ncei.noaa.gov/pub/data/cmb/ersst/v5/ascii/ersst.v5.1854.asc'\n",
    "res = requests.get(url)\n",
    "soup = BeautifulSoup(res.content, \"html5lib\")\n",
    "data = soup.find('body').text.split(\" \")\n",
    "df = pd.DataFrame(data)\n",
    "df = pd.to_numeric(df[0])\n",
    "df = pd.DataFrame(df.values[df.values != -9999])\n",
    "df = df.dropna()\n",
    "print (df)\n",
    "print (df[0].mean())\n"
   ]
  },
  {
   "cell_type": "code",
   "execution_count": null,
   "metadata": {},
   "outputs": [],
   "source": [
    "from_ = 1854\n",
    "to_ = 2024\n",
    "\n",
    "\n",
    "for year in np.arange(from_, to_+1, 1):\n",
    "    print (year)\n",
    "    \n",
    "    url = f'https://www.ncei.noaa.gov/pub/data/cmb/ersst/v5/ascii/ersst.v5.{year}.asc'\n",
    "    res = requests.get(url)\n",
    "    soup = BeautifulSoup(res.content, \"html5lib\")\n",
    "    data = soup.find('body').text.split(\" \")\n",
    "    df = pd.DataFrame(data)\n",
    "    df = pd.to_numeric(df[0])\n",
    "    df = pd.DataFrame(df.values[df.values != -9999])\n",
    "    df = df.dropna()\n",
    "    print (df[0].mean())\n",
    "    \n",
    "    "
   ]
  },
  {
   "cell_type": "code",
   "execution_count": null,
   "metadata": {},
   "outputs": [],
   "source": [
    "import numpy as np\n",
    "from scipy.stats import norm\n",
    "\n",
    "# Example data\n",
    "data = [your_data_points]  # Replace with your data\n",
    "\n",
    "# Step 1: Calculate mean, standard deviation, and sample size\n",
    "mean = np.mean(data)\n",
    "std_dev = np.std(data, ddof=1)  # ddof=1 for sample standard deviation\n",
    "n = len(data)\n",
    "\n",
    "# Step 2: Calculate standard error and margin of error\n",
    "confidence_level = 0.95\n",
    "z_score = norm.ppf(1 - (1 - confidence_level) / 2)  # Z for 95%\n",
    "standard_error = std_dev / np.sqrt(n)\n",
    "margin_of_error = z_score * standard_error\n",
    "\n",
    "# Step 3: Confidence interval\n",
    "lower_bound = mean - margin_of_error\n",
    "upper_bound = mean + margin_of_error\n",
    "\n",
    "print(f\"95% Confidence Interval: ({lower_bound}, {upper_bound})\")"
   ]
  },
  {
   "cell_type": "code",
   "execution_count": null,
   "metadata": {},
   "outputs": [],
   "source": [
    "ascii_grid = np.loadtxt(\"ersst.v5.2024.asc\", skiprows=6)"
   ]
  },
  {
   "cell_type": "code",
   "execution_count": null,
   "metadata": {},
   "outputs": [],
   "source": [
    "ascii_grid"
   ]
  },
  {
   "cell_type": "code",
   "execution_count": null,
   "metadata": {},
   "outputs": [],
   "source": [
    "ascii_grid_cleaned = ascii_grid[ascii_grid != -9999] / 100\n",
    "print (np.median(ascii_grid_cleaned))"
   ]
  },
  {
   "cell_type": "code",
   "execution_count": null,
   "metadata": {},
   "outputs": [],
   "source": [
    "flat = ascii_grid.flatten()\n",
    "index = np.argwhere(flat==-9999)\n",
    "y = np.delete(flat, index)\n",
    "print (np.mean(y))\n",
    "\n",
    "    "
   ]
  },
  {
   "cell_type": "code",
   "execution_count": null,
   "metadata": {},
   "outputs": [],
   "source": [
    "plt.hist(y)\n"
   ]
  }
 ],
 "metadata": {
  "kernelspec": {
   "display_name": "climate_change_dashboard-k5E2IyN5",
   "language": "python",
   "name": "python3"
  },
  "language_info": {
   "codemirror_mode": {
    "name": "ipython",
    "version": 3
   },
   "file_extension": ".py",
   "mimetype": "text/x-python",
   "name": "python",
   "nbconvert_exporter": "python",
   "pygments_lexer": "ipython3",
   "version": "3.12.3"
  }
 },
 "nbformat": 4,
 "nbformat_minor": 2
}
