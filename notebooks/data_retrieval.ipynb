{
 "cells": [
  {
   "cell_type": "code",
   "execution_count": 1,
   "metadata": {},
   "outputs": [],
   "source": [
    "\n",
    "\n",
    "import pandas as pd\n",
    "import numpy as np\n",
    "\n",
    "import requests\n",
    "from bs4 import BeautifulSoup\n",
    "import os\n",
    "from dotenv import load_dotenv\n",
    "\n",
    "# Load environment variables from .env file\n",
    "load_dotenv()\n",
    "\n",
    "# Access the API token\n",
    "api_token = os.getenv('NOAA_API_TOKEN')\n",
    "\n",
    "\n",
    "# data comes from: https://www.ncei.noaa.gov/products/extended-reconstructed-sst -> https://www.ncei.noaa.gov/pub/data/cmb/ersst/v5/ascii/\n",
    "# README: https://www.ncei.noaa.gov/pub/data/cmb/ersst/v5/ascii/Readme\n",
    "\n",
    "# /home/ibai/Downloads/ersst.v5.2024.asc\n",
    "\n",
    "\n",
    "#url = \"https://www.ncei.noaa.gov/cdo-web/api/v2/datasets\"\n",
    "#\n",
    "#https://urs.earthdata.nasa.gov/profile\n",
    "#\n",
    "#https://www.youtube.com/watch?v=DIdgltyoIYg&ab_channel=GeoDev\n",
    "#\n",
    "#https://www.youtube.com/watch?v=AmF1nn7o6Hc&ab_channel=ClimateUnboxed\n",
    "#\n",
    "#https://www.youtube.com/watch?v=EIe7IBMqhsw&ab_channel=JavedAli\n",
    "#\n",
    "#https://www.youtube.com/watch?v=cVtiVTSVdlo&ab_channel=Berenger\n",
    "#\n",
    "#https://www.youtube.com/watch?v=IVDf-BVbXDE&ab_channel=Dr.Jalal\n",
    "#\n",
    "#https://www.youtube.com/watch?v=bHLD4tBEyms&ab_channel=HatariLabs\n"
   ]
  },
  {
   "cell_type": "code",
   "execution_count": 5,
   "metadata": {},
   "outputs": [
    {
     "name": "stdout",
     "output_type": "stream",
     "text": [
      "            0\n",
      "1      -161.0\n",
      "4       -73.0\n",
      "7       -57.0\n",
      "10      -30.0\n",
      "12     -116.0\n",
      "...       ...\n",
      "296967 -180.0\n",
      "296969 -180.0\n",
      "296971 -180.0\n",
      "296973 -180.0\n",
      "296975 -180.0\n",
      "\n",
      "[131856 rows x 1 columns]\n",
      "1351.506036888727\n"
     ]
    }
   ],
   "source": [
    "url = 'https://www.ncei.noaa.gov/pub/data/cmb/ersst/v5/ascii/ersst.v5.1854.asc'\n",
    "res = requests.get(url)\n",
    "soup = BeautifulSoup(res.content, \"html5lib\")\n",
    "data = soup.find('body').text.split(\" \")\n",
    "df = pd.DataFrame(data)\n",
    "df = pd.to_numeric(df[0])\n",
    "df = pd.DataFrame(df.values[df.values != -9999])\n",
    "df = df.dropna()\n",
    "print (df)\n",
    "print (df[0].mean())\n"
   ]
  },
  {
   "cell_type": "code",
   "execution_count": null,
   "metadata": {},
   "outputs": [],
   "source": [
    "from_ = 1854\n",
    "to_ = 2024\n",
    "\n",
    "\n",
    "for year in np.arange(from_, to_+1, 1):\n",
    "    print (year)\n",
    "    \n",
    "    url = f'https://www.ncei.noaa.gov/pub/data/cmb/ersst/v5/ascii/ersst.v5.{year}.asc'\n",
    "    res = requests.get(url)\n",
    "    soup = BeautifulSoup(res.content, \"html5lib\")\n",
    "    data = soup.find('body').text.split(\" \")\n",
    "    df = pd.DataFrame(data)\n",
    "    df = pd.to_numeric(df[0])\n",
    "    df = pd.DataFrame(df.values[df.values != -9999])\n",
    "    df = df.dropna()\n",
    "    print (df[0].mean())\n",
    "    \n",
    "    "
   ]
  },
  {
   "cell_type": "code",
   "execution_count": null,
   "metadata": {},
   "outputs": [],
   "source": [
    "import numpy as np\n",
    "from scipy.stats import norm\n",
    "\n",
    "# Example data\n",
    "data = [your_data_points]  # Replace with your data\n",
    "\n",
    "# Step 1: Calculate mean, standard deviation, and sample size\n",
    "mean = np.mean(data)\n",
    "std_dev = np.std(data, ddof=1)  # ddof=1 for sample standard deviation\n",
    "n = len(data)\n",
    "\n",
    "# Step 2: Calculate standard error and margin of error\n",
    "confidence_level = 0.95\n",
    "z_score = norm.ppf(1 - (1 - confidence_level) / 2)  # Z for 95%\n",
    "standard_error = std_dev / np.sqrt(n)\n",
    "margin_of_error = z_score * standard_error\n",
    "\n",
    "# Step 3: Confidence interval\n",
    "lower_bound = mean - margin_of_error\n",
    "upper_bound = mean + margin_of_error\n",
    "\n",
    "print(f\"95% Confidence Interval: ({lower_bound}, {upper_bound})\")"
   ]
  },
  {
   "cell_type": "code",
   "execution_count": null,
   "metadata": {},
   "outputs": [],
   "source": [
    "ascii_grid = np.loadtxt(\"ersst.v5.2024.asc\", skiprows=6)"
   ]
  },
  {
   "cell_type": "code",
   "execution_count": null,
   "metadata": {},
   "outputs": [],
   "source": [
    "ascii_grid"
   ]
  },
  {
   "cell_type": "code",
   "execution_count": null,
   "metadata": {},
   "outputs": [],
   "source": [
    "ascii_grid_cleaned = ascii_grid[ascii_grid != -9999] / 100\n",
    "print (np.median(ascii_grid_cleaned))"
   ]
  },
  {
   "cell_type": "code",
   "execution_count": null,
   "metadata": {},
   "outputs": [],
   "source": [
    "flat = ascii_grid.flatten()\n",
    "index = np.argwhere(flat==-9999)\n",
    "y = np.delete(flat, index)\n",
    "print (np.mean(y))\n",
    "\n",
    "    "
   ]
  },
  {
   "cell_type": "code",
   "execution_count": null,
   "metadata": {},
   "outputs": [],
   "source": [
    "plt.hist(y)\n"
   ]
  }
 ],
 "metadata": {
  "kernelspec": {
   "display_name": "climate_change_dashboard-k5E2IyN5",
   "language": "python",
   "name": "python3"
  },
  "language_info": {
   "codemirror_mode": {
    "name": "ipython",
    "version": 3
   },
   "file_extension": ".py",
   "mimetype": "text/x-python",
   "name": "python",
   "nbconvert_exporter": "python",
   "pygments_lexer": "ipython3",
   "version": "3.12.3"
  }
 },
 "nbformat": 4,
 "nbformat_minor": 2
}
